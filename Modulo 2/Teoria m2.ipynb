{
 "cells": [
  {
   "attachments": {},
   "cell_type": "markdown",
   "metadata": {},
   "source": [
    "## Introducao - M2"
   ]
  },
  {
   "attachments": {},
   "cell_type": "markdown",
   "metadata": {},
   "source": [
    "## Estruturas de repeticao e introducao a listas"
   ]
  },
  {
   "attachments": {},
   "cell_type": "markdown",
   "metadata": {},
   "source": [
    "### While"
   ]
  },
  {
   "attachments": {},
   "cell_type": "markdown",
   "metadata": {},
   "source": [
    "####\n",
    "A estrutura de repetição while em Python é usada para repetir um bloco de código enquanto uma condição específica for verdadeira. Aqui está um exemplo simples:"
   ]
  },
  {
   "cell_type": "code",
   "execution_count": null,
   "metadata": {},
   "outputs": [],
   "source": [
    "contador = 0\n",
    "while contador < 5:\n",
    "    print(\"Contador:\", contador)\n",
    "    contador += 1"
   ]
  },
  {
   "attachments": {},
   "cell_type": "markdown",
   "metadata": {},
   "source": [
    "Neste exemplo, o programa inicializa a variável contador com o valor 0. Em seguida, ele entra em um loop while que continuará executando enquanto o valor de contador for menor que 5. Em cada iteração do loop, ele imprime o valor de contador e então incrementa contador em 1. Quando contador atinge o valor 5, a condição do while se torna falsa e o loop é encerrado.\n",
    "\n",
    "É importante ter cuidado ao usar loops while, pois se a condição nunca se tornar falsa, o loop continuará infinitamente, o que pode causar um travamento no programa. Sempre verifique se a condição do while é eventualmente falsa para evitar loops infinitos."
   ]
  },
  {
   "attachments": {},
   "cell_type": "markdown",
   "metadata": {},
   "source": [
    "####\n",
    "**Obs**: Cada repeticao é chamada de um interacao\n",
    "Em qualquer repeticao temos duas palavras reservadas.\n",
    "\n",
    "- Break - quando lido o codigo sai **imediatamente** do looping e segue o escopo anterior\n",
    "- Continue - Pula **imediatamente** para proxima interacao"
   ]
  },
  {
   "cell_type": "code",
   "execution_count": null,
   "metadata": {},
   "outputs": [],
   "source": [
    "contador = 0\n",
    "while contador < 5:\n",
    "    if contador == 3:\n",
    "        continue\n",
    "\n",
    "    if contador == 4:\n",
    "        break\n",
    "    \n",
    "    print(\"Contador:\", contador)\n",
    "    contador += 1"
   ]
  },
  {
   "attachments": {},
   "cell_type": "markdown",
   "metadata": {},
   "source": [
    "### Pratique"
   ]
  },
  {
   "attachments": {},
   "cell_type": "markdown",
   "metadata": {},
   "source": [
    "- [premio do milhao](https://olimpiada.ic.unicamp.br/pratique/pj/2015/f1/premio/)\n",
    "- [garcom](https://olimpiada.ic.unicamp.br/pratique/pj/2010/f1/garcom/)\n",
    "- [lampadas](https://olimpiada.ic.unicamp.br/pratique/pj/2016/f1/lampadas/)\n",
    "- [consecutivos](https://neps.academy/br/course/programacao-basica-(codcad)/lesson/consecutivos)\n",
    "\n",
    "- caso queira praticar mais, Beecrowd\n",
    "\n",
    "  - 1080,1151"
   ]
  },
  {
   "attachments": {},
   "cell_type": "markdown",
   "metadata": {},
   "source": [
    "### Introducao a listas"
   ]
  },
  {
   "attachments": {},
   "cell_type": "markdown",
   "metadata": {},
   "source": [
    "####\n",
    "Em Python, uma lista é uma estrutura de dados que pode armazenar uma coleção de elementos, como números, strings, booleanos, etc. Os elementos em uma lista são ordenados e podem ser acessados ​​por meio de um índice numérico. Aqui está um exemplo de como criar e trabalhar com listas:\n",
    "\n"
   ]
  },
  {
   "cell_type": "code",
   "execution_count": null,
   "metadata": {},
   "outputs": [],
   "source": [
    "# Criando uma lista\n",
    "frutas = [\"maçã\", \"banana\", \"laranja\", \"morango\"]\n",
    "\n",
    "# Acessando elementos da lista\n",
    "print(frutas[0])  # Saída: maçã\n",
    "print(frutas[2])  # Saída: laranja\n",
    "\n",
    "# Iterando sobre uma lista\n",
    "for fruta in frutas:\n",
    "    print(fruta)\n",
    "\n",
    "# Adicionando um elemento ao final da lista\n",
    "frutas.append(\"uva\")\n",
    "print(frutas)\n",
    "\n",
    "# Removendo um elemento da lista\n",
    "frutas.remove(\"banana\")\n",
    "print(frutas)\n",
    "\n",
    "# Verificando se um elemento está na lista\n",
    "print(\"maçã\" in frutas)  # Saída: True\n",
    "\n",
    "# Obtendo o comprimento da lista\n",
    "print(len(frutas))  # Saída: 4\n"
   ]
  },
  {
   "attachments": {},
   "cell_type": "markdown",
   "metadata": {},
   "source": [
    "As listas em Python são mutáveis, o que significa que você pode alterar, adicionar ou remover elementos após a criação da lista. Isso as torna muito flexíveis e úteis em uma variedade de situações."
   ]
  },
  {
   "attachments": {},
   "cell_type": "markdown",
   "metadata": {},
   "source": [
    "### For"
   ]
  },
  {
   "attachments": {},
   "cell_type": "markdown",
   "metadata": {},
   "source": [
    "####\n",
    "\n",
    "A estrutura de repetição for em Python é usada para iterar sobre uma sequência (como uma lista, tupla, string, etc.) ou outro objeto iterável. Aqui está um exemplo simples:"
   ]
  },
  {
   "cell_type": "code",
   "execution_count": null,
   "metadata": {},
   "outputs": [],
   "source": [
    "frutas = [\"maçã\", \"banana\", \"laranja\"]\n",
    "for fruta in frutas:\n",
    "    print(fruta)\n"
   ]
  },
  {
   "attachments": {},
   "cell_type": "markdown",
   "metadata": {},
   "source": [
    "Neste exemplo, o for itera sobre a lista frutas e, em cada iteração, a variável fruta recebe o valor do próximo elemento da lista. O bloco de código dentro do for é executado para cada elemento da lista, imprimindo cada fruta na saída."
   ]
  },
  {
   "attachments": {},
   "cell_type": "markdown",
   "metadata": {},
   "source": [
    "####\n",
    "Você também pode usar a função range() em um loop for para iterar sobre uma sequência de números. Por exemplo:"
   ]
  },
  {
   "cell_type": "code",
   "execution_count": null,
   "metadata": {},
   "outputs": [],
   "source": [
    "for i in range(5):\n",
    "    print(i)\n"
   ]
  },
  {
   "attachments": {},
   "cell_type": "markdown",
   "metadata": {},
   "source": [
    "### Pratique"
   ]
  },
  {
   "attachments": {},
   "cell_type": "markdown",
   "metadata": {},
   "source": [
    "- 1173,1177,1178,1180\n",
    "\n",
    "- [codigo](https://olimpiada.ic.unicamp.br/pratique/pj/2015/f2/codigo/)\n",
    "- [campo minado](https://olimpiada.ic.unicamp.br/pratique/pj/2011/f1/campominado/)\n",
    "- [fita colorida](https://olimpiada.ic.unicamp.br/pratique/pj/2015/f1/fita/)"
   ]
  },
  {
   "attachments": {},
   "cell_type": "markdown",
   "metadata": {},
   "source": [
    "## Dicionario"
   ]
  },
  {
   "attachments": {},
   "cell_type": "markdown",
   "metadata": {},
   "source": [
    "Em Python, um dicionário é uma estrutura de dados que permite armazenar pares chave-valor, onde cada chave é única e mapeada para um valor específico. Os dicionários são úteis quando você precisa associar informações relacionadas. Aqui está um exemplo de como criar e trabalhar com dicionários:"
   ]
  },
  {
   "cell_type": "code",
   "execution_count": null,
   "metadata": {},
   "outputs": [],
   "source": [
    "# Criando um dicionário\n",
    "pessoa = {\"nome\": \"João\", \"idade\": 30, \"cidade\": \"São Paulo\"}\n",
    "\n",
    "# Acessando valores por chave\n",
    "print(pessoa[\"nome\"])  # Saída: João\n",
    "print(pessoa[\"idade\"])  # Saída: 30\n",
    "\n",
    "# Alterando valores\n",
    "pessoa[\"idade\"] = 31\n",
    "\n",
    "# Adicionando um novo par chave-valor\n",
    "pessoa[\"profissao\"] = \"engenheiro\"\n",
    "\n",
    "# Iterando sobre as chaves do dicionário\n",
    "for chave in pessoa:\n",
    "    print(chave, \":\", pessoa[chave])\n",
    "\n",
    "# Verificando se uma chave está presente no dicionário\n",
    "print(\"cidade\" in pessoa)  # Saída: True\n",
    "\n",
    "# Obtendo o comprimento do dicionário (número de pares chave-valor)\n",
    "print(len(pessoa))  # Saída: 4\n"
   ]
  }
 ],
 "metadata": {
  "language_info": {
   "name": "python"
  },
  "orig_nbformat": 4
 },
 "nbformat": 4,
 "nbformat_minor": 2
}
