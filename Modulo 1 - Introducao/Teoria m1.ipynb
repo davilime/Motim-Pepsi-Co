{
 "cells": [
  {
   "attachments": {},
   "cell_type": "markdown",
   "metadata": {},
   "source": [
    "# Modulo 1 -  Introducao"
   ]
  },
  {
   "attachments": {},
   "cell_type": "markdown",
   "metadata": {},
   "source": [
    "## Preparacao"
   ]
  },
  {
   "attachments": {},
   "cell_type": "markdown",
   "metadata": {},
   "source": [
    "### Porque aprender Python?"
   ]
  },
  {
   "attachments": {},
   "cell_type": "markdown",
   "metadata": {},
   "source": [
    "1. Facilidade de uso: Python é conhecido por sua sintaxe simples e fácil de ler,\n",
    "o que o torna acessível para iniciantes e experientes.\n",
    "\n",
    "2. Ampla adoção na indústria: Python é amplamente utilizado em diferentes setores\n",
    "da indústria devido à sua versatilidade e eficácia em lidar com uma variedade de\n",
    "tarefas relacionadas a dados.\n",
    "\n",
    "3. Ecossistema de bibliotecas: Python possui um rico ecossistema de bibliotecas\n",
    "para análise de dados, como pandas, NumPy e matplotlib, que facilitam a\n",
    "manipulação e visualização de dados.\n",
    "\n",
    "4. Ferramentas de visualização de dados: Com bibliotecas como matplotlib,\n",
    "seaborne plotly, é possível criar visualizações de dados interativas e\n",
    "informativas para comunicar resultados de análises.\n",
    "\n",
    "5. ácil integração: Python pode ser facilmente integrado com outras tecnologias\n",
    "e sistemas, tornando-o uma escolha ideal para administradores de dados que\n",
    "precisam trabalhar com diferentes ferramentas e plataformas.\n",
    "\n",
    "6. Aprendizado de máquina e análise de dados: Python é a linguagem de escolha\n",
    "para muitos profissionais que trabalham com aprendizado de máquina e análise de\n",
    "dados, devido às suas bibliotecas poderosas, como scikit-learn, TensorFlow e\n",
    "PyTorch.\n",
    "\n",
    "7. Automação de tarefas: Python pode ser usado para automatizar tarefas\n",
    "repetitivas, como limpeza de dados, geração de relatórios e processamento de\n",
    "arquivos, economizando tempo e aumentando a eficiência.\n"
   ]
  },
  {
   "attachments": {},
   "cell_type": "markdown",
   "metadata": {},
   "source": [
    "### Baixando Itens Necessarios e Boas Referencias"
   ]
  },
  {
   "attachments": {},
   "cell_type": "markdown",
   "metadata": {},
   "source": [
    "1. [Vs code](https://code.visualstudio.com/download) \n",
    "2. [Git Hub Desktop](https://desktop.github.com/)\n",
    "3. [Criar uma conta no GitHub](https://github.com/)"
   ]
  },
  {
   "attachments": {},
   "cell_type": "markdown",
   "metadata": {},
   "source": [
    "## Conceitos Iniciais"
   ]
  },
  {
   "attachments": {},
   "cell_type": "markdown",
   "metadata": {},
   "source": [
    "Nessa parte iremos fazer um breve resumo dos conceitos mais importantes para se \n",
    "estabelecer uma comunicacao eficiente entre o programador e a maquina. Dito isso,\n",
    "cabe a nos entender como um processo de comunicao como qualquer outra lingua falada.\n",
    "\n",
    "1. Qual é o codigo que estamos usado?(tipos de dados)\n",
    "2. Como se comportar como emissor(input de dados)\n",
    "3. Como ser o receptor(output de dados)\n",
    "4. Como poodemos manipular esses dados no incio(Operadores Artimeticos)"
   ]
  },
  {
   "attachments": {},
   "cell_type": "markdown",
   "metadata": {},
   "source": [
    "### Tipos de dados "
   ]
  },
  {
   "attachments": {},
   "cell_type": "markdown",
   "metadata": {},
   "source": [
    "Definicao Informal mas eficiente!"
   ]
  },
  {
   "attachments": {},
   "cell_type": "markdown",
   "metadata": {},
   "source": [
    "- String(str): Conjunto de caracteres - Criadas com \"\" ou ''\n",
    "  - ex: `\"Motim\"` ou `\"Educacao\"`\n",
    "- Integer(int): Numeros inteiros \n",
    "  - ex: `2`,`44`\n",
    "- Float(float): Numeros de **ponto** flutuante \n",
    "  - ex: `2.0`,`44.343`\n",
    "- Boolean(bool): Logica binaria de True or False / 1 ou 0\n",
    "\n",
    "**Curiosidade:** [George Boole](https://pt.wikipedia.org/wiki/George_Boole) \n",
    "(Lincoln, 2 de novembro de 1815 — Ballintemple, 8 \n",
    "de dezembro de 1864) foi um matemático, filósofo britânico, \n",
    "criador da [álgebra booleana](https://pt.wikipedia.org/wiki/%C3%81lgebra_booliana), fundamental para o desenvolvimento da computação moderna. \n",
    "\n"
   ]
  },
  {
   "attachments": {},
   "cell_type": "markdown",
   "metadata": {},
   "source": [
    "### Operadores Aritmeticos"
   ]
  },
  {
   "attachments": {},
   "cell_type": "markdown",
   "metadata": {},
   "source": [
    "\n",
    "Operador | Simbolo \n",
    "-------- | ---------\n",
    "Soma | + \n",
    "Subtracao | -\n",
    "Multiplicacao | *  \n",
    "Exponenciacao | **\n",
    "Divisao | /\n",
    "Divisao Inteira | //\n",
    "Resto | %"
   ]
  },
  {
   "attachments": {},
   "cell_type": "markdown",
   "metadata": {},
   "source": [
    "### Output Terminal - print"
   ]
  },
  {
   "attachments": {},
   "cell_type": "markdown",
   "metadata": {},
   "source": [
    "####\n",
    "Em Python, a função print() é usada para exibir saídas no terminal. Você pode passar uma string como argumento para a função print() para exibi-la no terminal. Por exemplo:"
   ]
  },
  {
   "cell_type": "code",
   "execution_count": null,
   "metadata": {},
   "outputs": [],
   "source": [
    "print(\"Olá, mundo!\")"
   ]
  },
  {
   "attachments": {},
   "cell_type": "markdown",
   "metadata": {},
   "source": [
    "####\n",
    "Isso exibirá \"Olá, mundo!\" no terminal quando o código for executado. Você também pode passar várias strings separadas por vírgulas para a função print() para exibi-las em sequência:"
   ]
  },
  {
   "cell_type": "code",
   "execution_count": null,
   "metadata": {},
   "outputs": [],
   "source": [
    "nome = \"Alice\"\n",
    "idade = 30\n",
    "print(\"Olá,\", nome, \"você tem\", idade, \"anos.\")"
   ]
  },
  {
   "attachments": {},
   "cell_type": "markdown",
   "metadata": {},
   "source": [
    "####\n",
    "Isso exibirá \"Olá, Alice você tem 30 anos.\" no terminal. Além disso, você pode formatar a saída usando f-strings (a partir do Python 3.6):"
   ]
  },
  {
   "cell_type": "code",
   "execution_count": null,
   "metadata": {},
   "outputs": [],
   "source": [
    "nome = \"Bob\"\n",
    "idade = 25\n",
    "print(f\"Olá, {nome}, você tem {idade} anos.\")\n"
   ]
  },
  {
   "attachments": {},
   "cell_type": "markdown",
   "metadata": {},
   "source": [
    "### Input - Terminal"
   ]
  },
  {
   "attachments": {},
   "cell_type": "markdown",
   "metadata": {},
   "source": [
    "####\n",
    "Em Python, você pode receber entrada do usuário no terminal usando a função input(). Esta função solicita ao usuário que insira um valor e retorna o que foi digitado como uma string. Aqui está um exemplo simples:"
   ]
  },
  {
   "cell_type": "code",
   "execution_count": null,
   "metadata": {},
   "outputs": [],
   "source": [
    "nome = input(\"Qual é o seu nome? \")\n",
    "print(\"Olá,\", nome)"
   ]
  },
  {
   "attachments": {},
   "cell_type": "markdown",
   "metadata": {},
   "source": [
    "Neste exemplo, o programa solicitará ao usuário que insira seu nome. O valor digitado pelo usuário será armazenado na variável nome e, em seguida, o programa imprimirá \"Olá, \" seguido do nome digitado pelo usuário.\n",
    "\n",
    "É importante notar que o **valor retornado por input() é sempre uma string**. Se você precisar de um tipo diferente (como um número inteiro), será necessário converter o valor usando as funções apropriadas (por exemplo, int() para inteiros)."
   ]
  },
  {
   "attachments": {},
   "cell_type": "markdown",
   "metadata": {},
   "source": [
    "### Pratique"
   ]
  },
  {
   "attachments": {},
   "cell_type": "markdown",
   "metadata": {},
   "source": [
    "\n",
    "- Criar conta e finalizar login:https://judge.beecrowd.com/pt/problems/index/1\n",
    "- Problemas recomendados: 1000 ate 1008\n",
    "- **1009/1012**"
   ]
  },
  {
   "attachments": {},
   "cell_type": "markdown",
   "metadata": {},
   "source": [
    "## Condicionais"
   ]
  },
  {
   "attachments": {},
   "cell_type": "markdown",
   "metadata": {},
   "source": [
    "####\n",
    "Sao estruturas de controle de fluxo condicionais if, elif (abreviação de \"else if\") e else para executar diferentes blocos de código com base em condições específicas. Quando a condicao for verdadeira o codigo seguira o escopo desse If. Aqui está um exemplo simples:"
   ]
  },
  {
   "cell_type": "code",
   "execution_count": null,
   "metadata": {},
   "outputs": [],
   "source": [
    "idade = int(input(\"Quantos anos você tem? \"))\n",
    "\n",
    "if idade < 18:\n",
    "    print(\"Você é menor de idade.\")\n",
    "elif idade >= 18 and idade < 60:\n",
    "    print(\"Você é adulto.\")\n",
    "else:\n",
    "    print(\"Você é idoso.\")\n"
   ]
  },
  {
   "attachments": {},
   "cell_type": "markdown",
   "metadata": {},
   "source": [
    "Neste exemplo, o programa solicita ao usuário que insira sua idade e armazena o valor como um número inteiro na variável idade. Em seguida, o programa verifica a idade e imprime uma mensagem com base na faixa etária.\n",
    "\n",
    "- A estrutura if verifica se a idade é menor que 18 e imprime \"Você é menor de idade.\" se for verdadeiro.\n",
    "- A estrutura elif verifica se a idade é maior ou igual a 18 e menor que 60 e imprime \"Você é adulto.\" se for verdadeiro.\n",
    "- A estrutura else imprime \"Você é idoso.\" se nenhuma das condições anteriores for verdadeira.\n",
    "\n",
    "\n",
    "Você pode usar quantas cláusulas elif forem necessárias para abranger todas as condições desejadas. A cláusula else é opcional e pode ser omitida se não houver necessidade de um bloco de código para todas as outras condições."
   ]
  },
  {
   "attachments": {},
   "cell_type": "markdown",
   "metadata": {},
   "source": [
    "####\n",
    "Outro exemplo essencial:"
   ]
  },
  {
   "cell_type": "code",
   "execution_count": null,
   "metadata": {},
   "outputs": [],
   "source": [
    "frase  = 'motim educao - python'\n",
    "\n",
    "if 'python' in frase:\n",
    "    print(\"Python está na frase.\")\n",
    "if 'motim' in frase:\n",
    "    print(\"Motim está na frase.\")\n",
    "if 'educao' in frase:\n",
    "    print(\"Educação está na frase.\")"
   ]
  },
  {
   "attachments": {},
   "cell_type": "markdown",
   "metadata": {},
   "source": [
    "segunda versao:"
   ]
  },
  {
   "cell_type": "code",
   "execution_count": null,
   "metadata": {},
   "outputs": [],
   "source": [
    "frase  = 'motim educao - python'\n",
    "\n",
    "if 'python' in frase:\n",
    "    print(\"Python está na frase.\")\n",
    "elif 'motim' in frase:\n",
    "    print(\"Motim está na frase.\")\n",
    "elif 'educao' in frase:\n",
    "    print(\"Educação está na frase.\")"
   ]
  },
  {
   "attachments": {},
   "cell_type": "markdown",
   "metadata": {},
   "source": [
    "#### Pratique"
   ]
  },
  {
   "attachments": {},
   "cell_type": "markdown",
   "metadata": {},
   "source": [
    "- 1035,1038,1047\n",
    "- 1049,1040,1046"
   ]
  }
 ],
 "metadata": {
  "kernelspec": {
   "display_name": "Python 3",
   "language": "python",
   "name": "python3"
  },
  "language_info": {
   "codemirror_mode": {
    "name": "ipython",
    "version": 3
   },
   "file_extension": ".py",
   "mimetype": "text/x-python",
   "name": "python",
   "nbconvert_exporter": "python",
   "pygments_lexer": "ipython3",
   "version": "3.9.6"
  },
  "orig_nbformat": 4
 },
 "nbformat": 4,
 "nbformat_minor": 2
}
